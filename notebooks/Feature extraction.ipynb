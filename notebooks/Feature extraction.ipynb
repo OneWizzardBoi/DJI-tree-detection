{
 "cells": [
  {
   "cell_type": "code",
   "execution_count": null,
   "metadata": {},
   "outputs": [],
   "source": [
    "%matplotlib inline\n",
    "import matplotlib.pyplot as plt\n",
    "\n",
    "import os\n",
    "import os.path\n",
    "\n",
    "import cv2 as cv\n",
    "import numpy as np\n",
    "from peeptree.processing import ImageProcessor\n",
    "from peeptree.model import ImageFeatureExtractor, TreeClassifierSVM\n",
    "\n",
    "# defining necessary paths\n",
    "image_extensions = [\"jpg\", \"png\"]\n",
    "trained_clf_path = \"/home/one_wizard_boi/Documents/Projects/DJI-tree-detection/peeptree/classifier.pickle\"\n",
    "image_dir = \"/home/one_wizard_boi/Documents/Projects/DJI-tree-detection/TrainingData/OriginalImages\"\n",
    "\n",
    "# defining a target image\n",
    "target_image_name = \"20200126_152211.jpg\"\n",
    "target_image_path = os.path.join(image_dir, target_image_name)\n"
   ]
  },
  {
   "cell_type": "code",
   "execution_count": null,
   "metadata": {
    "scrolled": false
   },
   "outputs": [],
   "source": [
    "''' Testing the detection pipeline '''\n",
    "\n",
    "\n",
    "# defining the target images\n",
    "target_image_names = [\"20200126_152211.jpg\", \"IMG_20200308_162929861.jpg\", \"20200126_152211.jpg\", \"IMG_20200308_160532716.jpg\", \n",
    "                      \"IMG_20200308_160439195.jpg\", \"IMG_20200308_160400750.jpg\", \"IMG_20200308_160331417.jpg\", \n",
    "                      \"20200126_152259.jpg\", \"IMG_20200126_151816507_HDR.jpg\", \"IMG_20200126_152153229_HDR.jpg\", \n",
    "                      \"20200126_152255.jpg\", \"20200126_151455.jpg\", \"20200126_151453.jpg\", \"20200126_151424.jpg\"]\n",
    "\n",
    "# defining the image processor\n",
    "processor = ImageProcessor(trained_clf_path, block_size=20)\n",
    "\n",
    "for img_name in target_image_names:\n",
    "\n",
    "    image_path = os.path.join(image_dir, img_name)\n",
    "    \n",
    "    # loading and processing the target image\n",
    "    image = cv.imread(image_path, cv.IMREAD_COLOR)\n",
    "    image = processor.detect_object_segments(image)\n",
    "\n",
    "    # displaying prcessed image\n",
    "    plt.imshow(cv.cvtColor(image, cv.COLOR_BGR2RGB))\n",
    "    plt.show()"
   ]
  },
  {
   "cell_type": "code",
   "execution_count": null,
   "metadata": {
    "scrolled": false
   },
   "outputs": [],
   "source": [
    "''' Analyzing extracted feature vectors '''\n",
    "import math\n",
    "\n",
    "\n",
    "# loading and resizing the target image\n",
    "image = cv.imread(target_image_path, cv.IMREAD_COLOR)\n",
    "image = cv.resize(image, (320, 240), interpolation = cv.INTER_AREA)\n",
    "\n",
    "# defining extraction pipeline\n",
    "feature_vectors = []\n",
    "feature_extractor = ImageFeatureExtractor(lbp_radius=1, lbp_n_points=8, fusion_method=1, color_space=\"RGB\",\n",
    "                                          channel_hist_n_bins = 15)\n",
    "\n",
    "# defining a tree sgment classifier\n",
    "clf = TreeClassifierSVM(trained_clf_path)\n",
    "\n",
    "# going through the blocks of the input image\n",
    "block_size = 20\n",
    "n_blocks_row = 240 // 20\n",
    "n_blocks_col = 320 // 20\n",
    "for row_i in range(n_blocks_row):\n",
    "    seg_row_start = row_i * block_size\n",
    "    for col_i in range(n_blocks_col):\n",
    "\n",
    "        # extracting current subimage\n",
    "        seg_col_start = col_i * block_size\n",
    "        image_seg = image[seg_row_start : seg_row_start + block_size, seg_col_start : seg_col_start + block_size]\n",
    "        image_seg = np.expand_dims(image_seg, axis=0)\n",
    "        \n",
    "        # collecting features for detected segments\n",
    "        if clf.predict(image_seg) == 1:\n",
    "            feature_vectors.append(feature_extractor.transform(image_seg)[0])\n",
    "                \n",
    "print(feature_vectors[0])\n",
    "print(len(feature_vectors[0]))\n",
    "\n",
    "# test\n",
    "math.sqrt(sum([element**2 for element in feature_vectors[0]]))"
   ]
  },
  {
   "cell_type": "code",
   "execution_count": null,
   "metadata": {},
   "outputs": [],
   "source": []
  }
 ],
 "metadata": {
  "kernelspec": {
   "display_name": "Python 3",
   "language": "python",
   "name": "python3"
  },
  "language_info": {
   "codemirror_mode": {
    "name": "ipython",
    "version": 3
   },
   "file_extension": ".py",
   "mimetype": "text/x-python",
   "name": "python",
   "nbconvert_exporter": "python",
   "pygments_lexer": "ipython3",
   "version": "3.6.8"
  }
 },
 "nbformat": 4,
 "nbformat_minor": 4
}
